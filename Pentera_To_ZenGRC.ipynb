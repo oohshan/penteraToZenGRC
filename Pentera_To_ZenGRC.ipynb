{
 "cells": [
  {
   "cell_type": "code",
   "execution_count": null,
   "id": "36aa9be0",
   "metadata": {},
   "outputs": [],
   "source": [
    "import requests\n",
    "import json\n",
    "import pandas as pd\n",
    "import base64\n",
    "\n",
    "from requests.packages.urllib3.exceptions import InsecureRequestWarning\n",
    "\n",
    "requests.packages.urllib3.disable_warnings(InsecureRequestWarning)"
   ]
  },
  {
   "cell_type": "code",
   "execution_count": null,
   "id": "adc48ac3",
   "metadata": {},
   "outputs": [],
   "source": [
    "url = \"\"\n",
    "clientID = \"\"\n",
    "tgt = \"\"\n",
    "token = \"\""
   ]
  },
  {
   "cell_type": "code",
   "execution_count": null,
   "id": "1c2eb568",
   "metadata": {},
   "outputs": [],
   "source": [
    "def getToken(url, clientID, tgt):\n",
    "    url = url + \"auth/login?client_id=\" + clientID + \"&tgt=\" + tgt\n",
    "    payload = {}\n",
    "    headers = {}   \n",
    "    return json.loads(requests.request(\"POST\", url, headers=headers, data=payload, verify=False).text)[\"token\"]"
   ]
  },
  {
   "cell_type": "code",
   "execution_count": null,
   "id": "7ed3c66c",
   "metadata": {},
   "outputs": [],
   "source": [
    "def getAchievements(url, token, taskID):\n",
    "    url = url + \"task_run/\" + taskID + \"/achievements\"\n",
    "    print(url)\n",
    "    payload = {}\n",
    "    headers = {\n",
    "        'Authorization':\n",
    "            token\n",
    "    }\n",
    "    return json.loads(requests.request(\"GET\", url, headers=headers, data=payload, verify=False).text)"
   ]
  },
  {
   "cell_type": "code",
   "execution_count": null,
   "id": "48bff8eb",
   "metadata": {},
   "outputs": [],
   "source": [
    "def getVulns(url, token, taskID):\n",
    "    url = url + \"task_run/\" + taskID + \"/vulnerabilities\"\n",
    "    print(url)\n",
    "    payload = {}\n",
    "    headers = {\n",
    "        'Authorization':\n",
    "            token\n",
    "    }\n",
    "    return json.loads(requests.request(\"GET\", url, headers=headers, data=payload, verify=False).text)"
   ]
  },
  {
   "cell_type": "code",
   "execution_count": null,
   "id": "9005269b",
   "metadata": {},
   "outputs": [],
   "source": [
    "def getHosts(url, token, taskID):\n",
    "    url = url + \"task_run/\" + taskID + \"/hosts\"\n",
    "    print(url)\n",
    "    payload = {}\n",
    "    headers = {\n",
    "        'Authorization':\n",
    "            token\n",
    "    }\n",
    "    return json.loads(requests.request(\"GET\", url, headers=headers, data=payload, verify=False).text)"
   ]
  },
  {
   "cell_type": "code",
   "execution_count": null,
   "id": "577d1d05",
   "metadata": {
    "scrolled": true
   },
   "outputs": [],
   "source": [
    "taskID = \"\"\n",
    "token = getToken(url, clientID, tgt)\n",
    "df_achvs = pd.DataFrame(getAchievements(url, token, taskID)[\"achievements\"])\n",
    "df_vulns = pd.DataFrame(getVulns(url, token, taskID)[\"vulnerabilities\"])\n",
    "df_hosts = pd.DataFrame(getHosts(url, token, taskID)[\"hosts\"])"
   ]
  },
  {
   "cell_type": "code",
   "execution_count": null,
   "id": "51396f08",
   "metadata": {},
   "outputs": [],
   "source": [
    "# df_achvs\n",
    "df_vulns = df_vulns[df_vulns.id != \"pcysys_data_analysis_9\"].copy()\n",
    "# df_hosts"
   ]
  },
  {
   "cell_type": "code",
   "execution_count": null,
   "id": "bb6fd26a",
   "metadata": {},
   "outputs": [],
   "source": [
    "# Creates the header used for API authentication with ZenGRC\n",
    "# Output: Authorization Header\n",
    "def formatZenAuthHeader():\n",
    "    zenkey = \"\"\n",
    "    message_bytes = zenkey.encode('ascii')\n",
    "    base64_bytes = base64.b64encode(message_bytes)\n",
    "    base64_message = base64_bytes.decode(\"ascii\")\n",
    "    header = \"Basic \" + base64_message\n",
    "    \n",
    "    return header"
   ]
  },
  {
   "cell_type": "code",
   "execution_count": null,
   "id": "0b793f45",
   "metadata": {},
   "outputs": [],
   "source": [
    "# Gets the vulnerability custom attributes in Zen\n",
    "# Output: All vulnerabilities populated in ZenGRC\n",
    "def getZenVulnerabilities():\n",
    "    payload = {}\n",
    "    headers = {\n",
    "        'Authorization':\n",
    "            formatZenAuthHeader()\n",
    "    }\n",
    "    \n",
    "    url = \"https://psbrands.api.zengrc.com/api/v2/vulnerabilities\"\n",
    "    return json.loads(requests.request(\"GET\", url, headers=headers, data=payload, verify=False).text)[\"data\"]"
   ]
  },
  {
   "cell_type": "code",
   "execution_count": null,
   "id": "a82b4440",
   "metadata": {},
   "outputs": [],
   "source": [
    "# Gets the vulnerability custom attributes in Zen\n",
    "# Output: Custom attribute data in JSON format\n",
    "def getZenVulnCustomAttributes():\n",
    "    payload = {}\n",
    "    headers = {\n",
    "        'Authorization':\n",
    "            formatZenAuthHeader()\n",
    "    }\n",
    "    \n",
    "    url = \"https://psbrands.api.zengrc.com/api/v2/vulnerabilities/custom_attributes\"\n",
    "    return json.loads(requests.request(\"GET\", url, headers=headers, data=payload, verify=False).text)"
   ]
  },
  {
   "cell_type": "code",
   "execution_count": null,
   "id": "21619cba",
   "metadata": {},
   "outputs": [],
   "source": [
    "# Formats Vulnerability for ZenGRC Post Vuln\n",
    "# Input: Series (or row) from Dataframe containing all vuln data from PenTest\n",
    "# Output: Data in JSON format\n",
    "def formatZenVuln(vulnData):\n",
    "    base = {\n",
    "        \"data\": \n",
    "        [\n",
    "            {\n",
    "                \"code\": vulnData[\"id\"],\n",
    "                \"contact\": 12,\n",
    "                \"custom_attributes\": {\n",
    "                    \"43\": \"nothing\",\n",
    "                    \"44\": vulnData[\"port\"],\n",
    "                    \"46\": \"nothing\",\n",
    "                    \"47\": vulnData[\"found_on\"],\n",
    "                    \"48\": str(vulnData[\"severity\"]),\n",
    "                    \"59\": vulnData[\"summary\"],\n",
    "                    \"60\": vulnData[\"insight\"],\n",
    "                    \"61\": vulnData[\"remediation\"],\n",
    "                },\n",
    "                \"description\": \"description\",\n",
    "                \"end_date\": \"2017-12-01\",\n",
    "                \"owners\": [5],\n",
    "                \"contact\": 5,\n",
    "                \"status\": \"Identified\",\n",
    "                \"title\": vulnData[\"name\"],\n",
    "                \"url\": \"http://www.primesourcebp.com\"\n",
    "            }\n",
    "        ]\n",
    "    }    \n",
    "    \n",
    "    return base"
   ]
  },
  {
   "cell_type": "code",
   "execution_count": null,
   "id": "4ae79ed4",
   "metadata": {},
   "outputs": [],
   "source": [
    "# Checks if Vulnerability already exists in ZenGRC\n",
    "# Input: Vulnerability ID\n",
    "# Output: True/False based on existence\n",
    "def checkZenOverlap(vulnID):\n",
    "    vulnsList = []\n",
    "    for i in range(0, len(getZenVulnerabilities())): vulnsList.append(getZenVulnerabilities()[i][\"code\"])\n",
    "    for i in vulnsList:\n",
    "        if (i == vulnID):\n",
    "            return True\n",
    "    return False"
   ]
  },
  {
   "cell_type": "code",
   "execution_count": null,
   "id": "42bde98b",
   "metadata": {},
   "outputs": [],
   "source": [
    "# Posts a Pentera vulnerability to ZenGRC\n",
    "# Input: JSON Formatted Vulnerability Data\n",
    "# Output: Post Response?\n",
    "def postZenVuln(vulnData):\n",
    "    url = \"https://psbrands.api.zengrc.com/api/v2/vulnerabilities\"\n",
    "    headers = {\n",
    "        'Authorization':\n",
    "            formatZenAuthHeader(),\n",
    "        'Content-Type': 'application/json'\n",
    "    }\n",
    "    \n",
    "    for index, row in vulnData.iterrows():\n",
    "        vuln = formatZenVuln(row)\n",
    "        if checkZenOverlap(vuln[\"data\"][0][\"code\"]) == True:\n",
    "            print(\"Vulnerability Already Exists... Append!\")\n",
    "            updateZenVuln(vuln)\n",
    "        else:\n",
    "            print(json.loads(requests.request(\"POST\", url, headers=headers, data=json.dumps(vuln), verify=False).text))"
   ]
  },
  {
   "cell_type": "code",
   "execution_count": null,
   "id": "27b2d4d2",
   "metadata": {},
   "outputs": [],
   "source": [
    "def formatZenDataFromResponseVuln(responseData):\n",
    "    responseDataID = responseData[\"id\"]\n",
    "    code = responseData[\"code\"]\n",
    "    port = responseData[\"custom_attributes\"][\"44\"][\"value\"]\n",
    "    found_on = responseData[\"custom_attributes\"][\"47\"][\"value\"]\n",
    "    severity = responseData[\"custom_attributes\"][\"48\"][\"value\"]\n",
    "    summary = responseData[\"custom_attributes\"][\"59\"][\"value\"]\n",
    "    insight = responseData[\"custom_attributes\"][\"60\"][\"value\"]\n",
    "    remediation = responseData[\"custom_attributes\"][\"61\"][\"value\"]\n",
    "    name = responseData[\"title\"]\n",
    "    \n",
    "    base = {\n",
    "        \"data\": \n",
    "        [\n",
    "            {\n",
    "                \"id\": responseDataID,\n",
    "                \"code\": code,\n",
    "                \"contact\": 12,\n",
    "                \"custom_attributes\": {\n",
    "                    \"43\": \"nothing\",\n",
    "                    \"44\": port,\n",
    "                    \"46\": \"nothing\",\n",
    "                    \"47\": str(found_on),\n",
    "                    \"48\": severity,\n",
    "                    \"59\": str(summary),\n",
    "                    \"60\": str(insight),\n",
    "                    \"61\": str(remediation),\n",
    "                },\n",
    "                \"description\": \"description\",\n",
    "                \"end_date\": \"2017-12-01\",\n",
    "                \"owners\": [5],\n",
    "                \"contact\": 5,\n",
    "                \"status\": \"Identified\",\n",
    "                \"title\": name,\n",
    "                \"url\": \"http://www.primesourcebp.com\"\n",
    "            }\n",
    "        ]\n",
    "    }\n",
    "    return base"
   ]
  },
  {
   "cell_type": "code",
   "execution_count": null,
   "id": "b9e3756d",
   "metadata": {},
   "outputs": [],
   "source": [
    "# Update an existing Vulnerability entry\n",
    "# Input: Single JSON Formatted Vulnerability\n",
    "# Output: Put response\n",
    "def updateZenVuln(vuln):\n",
    "    vulnID = vuln[\"data\"][0][\"code\"]\n",
    "    vulnsList = []\n",
    "    existingVuln = \"\"\n",
    "    \n",
    "    for i in range(0, len(getZenVulnerabilities())): \n",
    "        vulnsList.append(getZenVulnerabilities()[i])\n",
    "        \n",
    "    for i in vulnsList:\n",
    "        if (i[\"code\"] == vulnID):\n",
    "            existingVuln = i\n",
    "    \n",
    "    formattedExistingVuln = formatZenDataFromResponseVuln(existingVuln)\n",
    "    \n",
    "    #     if (vuln[\"data\"][0][\"custom_attributes\"][\"47\"].split()[1] ==  formattedExistingVuln[\"data\"][0][\"custom_attributes\"][\"47\"].split()[1]):\n",
    "    #         print(\"Duplicate Value\")\n",
    "    #         return\n",
    "    \n",
    "    #     else:\n",
    "    formattedExistingVuln[\"data\"][0][\"custom_attributes\"][\"47\"] = formattedExistingVuln[\"data\"][0][\"custom_attributes\"][\"47\"] + \" \" + vuln[\"data\"][0][\"custom_attributes\"][\"47\"]   \n",
    "    \n",
    "    payload = json.dumps(formattedExistingVuln)  \n",
    "    \n",
    "    url = \"https://psbrands.api.zengrc.com/api/v2/vulnerabilities\"\n",
    "    headers = {\n",
    "        'Authorization':\n",
    "            formatZenAuthHeader(),\n",
    "        'Content-Type': 'application/json'\n",
    "    }\n",
    "    \n",
    "    return json.loads(requests.request(\"PUT\", url, headers=headers, data=payload).text)\n",
    "    "
   ]
  },
  {
   "cell_type": "code",
   "execution_count": null,
   "id": "23039f44",
   "metadata": {},
   "outputs": [],
   "source": [
    "df_vulns[\"port\"] = df_vulns[\"port\"].fillna(0)\n",
    "df_vulns[\"found_on\"] = df_vulns[\"found_on\"].fillna(\"N/A\")\n",
    "df_vulns[\"summary\"] = df_vulns[\"summary\"].fillna(\"N/A\")\n",
    "df_vulns[\"severity\"] = df_vulns[\"severity\"].fillna(\"N/A\")\n",
    "df_vulns[\"insight\"] = df_vulns[\"insight\"].fillna(\"N/A\")\n",
    "postZenVuln(df_vulns)"
   ]
  },
  {
   "cell_type": "code",
   "execution_count": null,
   "id": "abccb01a",
   "metadata": {},
   "outputs": [],
   "source": []
  }
 ],
 "metadata": {
  "kernelspec": {
   "display_name": "Python 3 (ipykernel)",
   "language": "python",
   "name": "python3"
  },
  "language_info": {
   "codemirror_mode": {
    "name": "ipython",
    "version": 3
   },
   "file_extension": ".py",
   "mimetype": "text/x-python",
   "name": "python",
   "nbconvert_exporter": "python",
   "pygments_lexer": "ipython3",
   "version": "3.9.12"
  }
 },
 "nbformat": 4,
 "nbformat_minor": 5
}
